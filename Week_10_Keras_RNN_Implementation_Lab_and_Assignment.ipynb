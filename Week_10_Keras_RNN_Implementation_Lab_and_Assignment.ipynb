{
  "nbformat": 4,
  "nbformat_minor": 0,
  "metadata": {
    "colab": {
      "provenance": [],
      "collapsed_sections": [],
      "machine_shape": "hm"
    },
    "kernelspec": {
      "name": "python3",
      "display_name": "Python 3"
    },
    "accelerator": "GPU"
  },
  "cells": [
    {
      "cell_type": "markdown",
      "source": [
        "#Week 10 Keras RNN Implementations Lab and Assignment\n"
      ],
      "metadata": {
        "id": "0qdC4ezyMEem"
      }
    },
    {
      "cell_type": "code",
      "source": [
        "from google.colab import drive\n",
        "drive.mount('/content/gdrive')"
      ],
      "metadata": {
        "id": "_9506opRR90G"
      },
      "execution_count": null,
      "outputs": []
    },
    {
      "cell_type": "markdown",
      "source": [
        "Before Lab and Assignment, make sure you've put today's data to `/content/gdrive/My Drive/music_data_mining/log_mels_4classes.npz`. If not, follow the procedure:\n",
        "\n",
        "- open the url (https://drive.google.com/file/d/19Z4dcFrCyJ51l1YpvVYh3nIrDBQNebIC/view)\n",
        "- click the triangle with a plus (\"Add shorcut to Drive\") on the upper right corner\n",
        "- navigate to the right directory `/content/gdrive/My Drive/music_data_mining/` and confirm by clicking \"Add shortcut here\"."
      ],
      "metadata": {
        "id": "ixmD60U7MHqL"
      }
    },
    {
      "cell_type": "markdown",
      "metadata": {
        "id": "cwZNmAY1glZj"
      },
      "source": [
        "For today's Lab and Assignment, you have four different types of RNN-based models: Deep RNNs, GRU, LSTM, and Bidirectional GRU. Their performances are not that high because they are pretty simple. During the lab session, change some settings below to improve their performances.\n",
        "Possible parameters that you can change:\n",
        "- number of units\n",
        "- number of layers\n",
        "- dropout rate\n",
        "- lookback\n",
        "- learning rate\n",
        "- batch size\n",
        "\n",
        "Let me know your best network settings!"
      ]
    },
    {
      "cell_type": "code",
      "metadata": {
        "id": "epUwJGHUASpu"
      },
      "source": [
        "import gc\n",
        "import numpy as np\n",
        "import tensorflow as tf\n",
        "from tensorflow import keras"
      ],
      "execution_count": 4,
      "outputs": []
    },
    {
      "cell_type": "markdown",
      "metadata": {
        "id": "mi2jEtHt0kO6"
      },
      "source": [
        "## Loading Data"
      ]
    },
    {
      "cell_type": "code",
      "metadata": {
        "id": "6ifbYCgfAzDN"
      },
      "source": [
        "log_mels= np.load('/content/gdrive/My Drive/music_data_mining/log_mels_4classes.npz') \n",
        "X_train = log_mels['X_train']\n",
        "X_test = log_mels['X_test']\n",
        "X_valid = log_mels['X_valid']\n",
        "y_train = log_mels['y_train']\n",
        "y_test = log_mels['y_test']\n",
        "y_valid = log_mels['y_valid']"
      ],
      "execution_count": 3,
      "outputs": []
    },
    {
      "cell_type": "code",
      "source": [
        "X_train.shape"
      ],
      "metadata": {
        "colab": {
          "base_uri": "https://localhost:8080/"
        },
        "id": "oCX4_dyDKTOI",
        "outputId": "69da1933-d52b-4ddf-8ba4-2f5412e460ff"
      },
      "execution_count": 3,
      "outputs": [
        {
          "output_type": "execute_result",
          "data": {
            "text/plain": [
              "(3200, 1290, 128)"
            ]
          },
          "metadata": {},
          "execution_count": 3
        }
      ]
    },
    {
      "cell_type": "code",
      "source": [
        "y_train.shape"
      ],
      "metadata": {
        "colab": {
          "base_uri": "https://localhost:8080/"
        },
        "id": "J3KRuRjTKU8v",
        "outputId": "e889a067-a1db-455c-af1d-28927a413411"
      },
      "execution_count": 4,
      "outputs": [
        {
          "output_type": "execute_result",
          "data": {
            "text/plain": [
              "(3200,)"
            ]
          },
          "metadata": {},
          "execution_count": 4
        }
      ]
    },
    {
      "cell_type": "markdown",
      "metadata": {
        "id": "PLds9sPXEmgZ"
      },
      "source": [
        "##RNN Data Reshaping"
      ]
    },
    {
      "cell_type": "code",
      "metadata": {
        "id": "LEFmWAllEfjL",
        "outputId": "2d2545ee-1f59-4fa0-bb33-273846934653",
        "colab": {
          "base_uri": "https://localhost:8080/"
        }
      },
      "source": [
        "lookback=43*2\n",
        "factor=int(1290/lookback)\n",
        "\n",
        "X_train=X_train.reshape((3200*factor, lookback, 128))\n",
        "\n",
        "y_train=np.kron(y_train, np.ones(factor))\n",
        "y_train.astype(np.int32)"
      ],
      "execution_count": 5,
      "outputs": [
        {
          "output_type": "execute_result",
          "data": {
            "text/plain": [
              "array([3, 3, 3, ..., 3, 3, 3], dtype=int32)"
            ]
          },
          "metadata": {},
          "execution_count": 5
        }
      ]
    },
    {
      "cell_type": "markdown",
      "metadata": {
        "id": "2qpDJtTCtbd3"
      },
      "source": [
        "## 1. Deep RNNs"
      ]
    },
    {
      "cell_type": "code",
      "source": [
        "if 'model' in locals():\n",
        "  del model\n",
        "  gc.collect()\n",
        "keras.backend.clear_session()\n",
        "np.random.seed(42)\n",
        "tf.random.set_seed(42)"
      ],
      "metadata": {
        "id": "a1FPHw6faErh"
      },
      "execution_count": null,
      "outputs": []
    },
    {
      "cell_type": "code",
      "metadata": {
        "id": "az9tRugNIOmI"
      },
      "source": [
        "model = keras.models.Sequential([\n",
        "    keras.layers.SimpleRNN(100, return_sequences=True, dropout=0.5),\n",
        "    keras.layers.SimpleRNN(100, dropout=0.1),\n",
        "    keras.layers.Dropout(0.1),\n",
        "    keras.layers.Dense(units=4, activation='softmax')\n",
        "])"
      ],
      "execution_count": 6,
      "outputs": []
    },
    {
      "cell_type": "code",
      "metadata": {
        "id": "QGoQ6GTuIaOw",
        "outputId": "22ec43e8-8771-4a64-ef56-c72f4ae9490f",
        "colab": {
          "base_uri": "https://localhost:8080/"
        }
      },
      "source": [
        "model.compile(loss=\"sparse_categorical_crossentropy\",\n",
        "              optimizer = keras.optimizers.Adam(learning_rate=0.001),\n",
        "              metrics=[\"accuracy\"])\n",
        "\n",
        "history = model.fit(X_train, y_train, batch_size=200, epochs=200,\n",
        "                    validation_data=(X_valid, y_valid),\n",
        "                    callbacks=[keras.callbacks.EarlyStopping(patience=10, restore_best_weights=True)])\n",
        "       "
      ],
      "execution_count": 5,
      "outputs": [
        {
          "output_type": "stream",
          "name": "stdout",
          "text": [
            "Epoch 1/200\n",
            "120/120 [==============================] - 22s 148ms/step - loss: 1.2913 - accuracy: 0.4086 - val_loss: 1.2468 - val_accuracy: 0.4175\n",
            "Epoch 2/200\n",
            "120/120 [==============================] - 16s 134ms/step - loss: 1.2034 - accuracy: 0.4496 - val_loss: 1.2005 - val_accuracy: 0.4250\n",
            "Epoch 3/200\n",
            "120/120 [==============================] - 17s 144ms/step - loss: 1.1657 - accuracy: 0.4701 - val_loss: 1.1966 - val_accuracy: 0.4300\n",
            "Epoch 4/200\n",
            "120/120 [==============================] - 16s 132ms/step - loss: 1.2441 - accuracy: 0.4115 - val_loss: 1.1776 - val_accuracy: 0.4675\n",
            "Epoch 5/200\n",
            "120/120 [==============================] - 16s 131ms/step - loss: 1.1850 - accuracy: 0.4561 - val_loss: 1.1436 - val_accuracy: 0.4625\n",
            "Epoch 6/200\n",
            "120/120 [==============================] - 16s 133ms/step - loss: 1.1390 - accuracy: 0.4909 - val_loss: 1.1427 - val_accuracy: 0.4800\n",
            "Epoch 7/200\n",
            "120/120 [==============================] - 18s 152ms/step - loss: 1.1601 - accuracy: 0.4771 - val_loss: 1.1477 - val_accuracy: 0.4950\n",
            "Epoch 8/200\n",
            "120/120 [==============================] - 16s 136ms/step - loss: 1.1975 - accuracy: 0.4388 - val_loss: 1.1718 - val_accuracy: 0.4625\n",
            "Epoch 9/200\n",
            "120/120 [==============================] - 17s 139ms/step - loss: 1.1783 - accuracy: 0.4515 - val_loss: 1.1251 - val_accuracy: 0.4750\n",
            "Epoch 10/200\n",
            "120/120 [==============================] - 17s 140ms/step - loss: 1.1413 - accuracy: 0.4839 - val_loss: 1.0807 - val_accuracy: 0.5375\n",
            "Epoch 11/200\n",
            "120/120 [==============================] - 16s 133ms/step - loss: 1.2865 - accuracy: 0.3853 - val_loss: 1.3225 - val_accuracy: 0.3475\n",
            "Epoch 12/200\n",
            "120/120 [==============================] - 17s 138ms/step - loss: 1.2919 - accuracy: 0.3761 - val_loss: 1.2975 - val_accuracy: 0.3750\n",
            "Epoch 13/200\n",
            "120/120 [==============================] - 20s 168ms/step - loss: 1.2719 - accuracy: 0.3880 - val_loss: 1.2724 - val_accuracy: 0.4000\n",
            "Epoch 14/200\n",
            "120/120 [==============================] - 17s 145ms/step - loss: 1.2525 - accuracy: 0.4072 - val_loss: 1.2482 - val_accuracy: 0.4325\n",
            "Epoch 15/200\n",
            "120/120 [==============================] - 16s 130ms/step - loss: 1.2352 - accuracy: 0.4200 - val_loss: 1.2211 - val_accuracy: 0.4350\n",
            "Epoch 16/200\n",
            "120/120 [==============================] - 16s 131ms/step - loss: 1.2223 - accuracy: 0.4277 - val_loss: 1.2101 - val_accuracy: 0.4275\n",
            "Epoch 17/200\n",
            "120/120 [==============================] - 16s 133ms/step - loss: 1.2111 - accuracy: 0.4327 - val_loss: 1.2039 - val_accuracy: 0.4200\n",
            "Epoch 18/200\n",
            "120/120 [==============================] - 17s 138ms/step - loss: 1.2139 - accuracy: 0.4346 - val_loss: 1.2004 - val_accuracy: 0.4475\n",
            "Epoch 19/200\n",
            "120/120 [==============================] - 17s 138ms/step - loss: 1.2130 - accuracy: 0.4359 - val_loss: 1.1774 - val_accuracy: 0.4500\n",
            "Epoch 20/200\n",
            "120/120 [==============================] - 16s 136ms/step - loss: 1.2099 - accuracy: 0.4351 - val_loss: 1.1924 - val_accuracy: 0.4250\n"
          ]
        }
      ]
    },
    {
      "cell_type": "code",
      "metadata": {
        "id": "5ThlhUz1JYKj",
        "colab": {
          "base_uri": "https://localhost:8080/"
        },
        "outputId": "5c983b38-6941-4012-ca3f-006c53233133"
      },
      "source": [
        "model.summary()\n",
        "model.evaluate(X_test, y_test)"
      ],
      "execution_count": 6,
      "outputs": [
        {
          "output_type": "stream",
          "name": "stdout",
          "text": [
            "Model: \"sequential\"\n",
            "_________________________________________________________________\n",
            " Layer (type)                Output Shape              Param #   \n",
            "=================================================================\n",
            " simple_rnn (SimpleRNN)      (400, None, 100)          22900     \n",
            "                                                                 \n",
            " simple_rnn_1 (SimpleRNN)    (400, 100)                20100     \n",
            "                                                                 \n",
            " dropout (Dropout)           (400, 100)                0         \n",
            "                                                                 \n",
            " dense (Dense)               (400, 4)                  404       \n",
            "                                                                 \n",
            "=================================================================\n",
            "Total params: 43,404\n",
            "Trainable params: 43,404\n",
            "Non-trainable params: 0\n",
            "_________________________________________________________________\n",
            "13/13 [==============================] - 3s 182ms/step - loss: 1.1808 - accuracy: 0.4050\n"
          ]
        },
        {
          "output_type": "execute_result",
          "data": {
            "text/plain": [
              "[1.1807944774627686, 0.4050000011920929]"
            ]
          },
          "metadata": {},
          "execution_count": 6
        }
      ]
    },
    {
      "cell_type": "markdown",
      "metadata": {
        "id": "jLcd9GvrJTw7"
      },
      "source": [
        "## 2-1 LSTM"
      ]
    },
    {
      "cell_type": "code",
      "source": [
        "if 'model' in locals():\n",
        "  del model\n",
        "  gc.collect()\n",
        "keras.backend.clear_session()\n",
        "np.random.seed(42)\n",
        "tf.random.set_seed(42)"
      ],
      "metadata": {
        "id": "JeuCM5qGZUAi"
      },
      "execution_count": 9,
      "outputs": []
    },
    {
      "cell_type": "code",
      "metadata": {
        "id": "BU4Fi9XRJSUU"
      },
      "source": [
        "model = keras.models.Sequential([                      \n",
        "    keras.layers.LSTM(150, return_sequences=True, dropout=.3),\n",
        "    keras.layers.LSTM(150,  dropout=.1),\n",
        "    keras.layers.Dropout(0.1),\n",
        "    keras.layers.Dense(units=4, activation='softmax')\n",
        "])"
      ],
      "execution_count": 10,
      "outputs": []
    },
    {
      "cell_type": "code",
      "metadata": {
        "id": "HUmEe2EmJYXX",
        "outputId": "19a98095-50af-40c0-f9b6-4d13c7b810d8",
        "colab": {
          "base_uri": "https://localhost:8080/"
        }
      },
      "source": [
        "model.compile(loss=\"sparse_categorical_crossentropy\",\n",
        "              #optimizer = keras.optimizers.Adam(learning_rate=0.001),\n",
        "              optimizer ='rmsprop',\n",
        "              metrics=[\"accuracy\"])\n",
        "\n",
        "history = model.fit(X_train, y_train, batch_size=200, epochs=200,\n",
        "                    validation_data=(X_valid, y_valid),\n",
        "                    callbacks=[keras.callbacks.EarlyStopping(patience=10, restore_best_weights=True)])\n"
      ],
      "execution_count": 8,
      "outputs": [
        {
          "output_type": "stream",
          "name": "stdout",
          "text": [
            "Epoch 1/200\n",
            "240/240 [==============================] - 22s 41ms/step - loss: 1.0336 - accuracy: 0.5455 - val_loss: 1.0782 - val_accuracy: 0.5175\n",
            "Epoch 2/200\n",
            "240/240 [==============================] - 7s 30ms/step - loss: 0.9061 - accuracy: 0.6221 - val_loss: 0.9692 - val_accuracy: 0.6275\n",
            "Epoch 3/200\n",
            "240/240 [==============================] - 7s 29ms/step - loss: 0.8306 - accuracy: 0.6618 - val_loss: 0.9219 - val_accuracy: 0.6300\n",
            "Epoch 4/200\n",
            "240/240 [==============================] - 7s 28ms/step - loss: 0.7799 - accuracy: 0.6864 - val_loss: 0.8511 - val_accuracy: 0.6500\n",
            "Epoch 5/200\n",
            "240/240 [==============================] - 7s 28ms/step - loss: 0.7380 - accuracy: 0.7063 - val_loss: 0.9796 - val_accuracy: 0.5875\n",
            "Epoch 6/200\n",
            "240/240 [==============================] - 7s 29ms/step - loss: 0.7068 - accuracy: 0.7204 - val_loss: 0.9298 - val_accuracy: 0.6425\n",
            "Epoch 7/200\n",
            "240/240 [==============================] - 7s 30ms/step - loss: 0.6751 - accuracy: 0.7345 - val_loss: 0.9296 - val_accuracy: 0.6350\n",
            "Epoch 8/200\n",
            "240/240 [==============================] - 7s 28ms/step - loss: 0.6455 - accuracy: 0.7458 - val_loss: 1.0746 - val_accuracy: 0.6250\n",
            "Epoch 9/200\n",
            "240/240 [==============================] - 7s 29ms/step - loss: 0.6198 - accuracy: 0.7575 - val_loss: 0.9481 - val_accuracy: 0.6875\n",
            "Epoch 10/200\n",
            "240/240 [==============================] - 7s 30ms/step - loss: 0.5928 - accuracy: 0.7684 - val_loss: 0.9716 - val_accuracy: 0.6900\n",
            "Epoch 11/200\n",
            "240/240 [==============================] - 7s 30ms/step - loss: 0.5719 - accuracy: 0.7798 - val_loss: 0.9313 - val_accuracy: 0.6725\n",
            "Epoch 12/200\n",
            "240/240 [==============================] - 7s 28ms/step - loss: 0.5453 - accuracy: 0.7886 - val_loss: 0.9160 - val_accuracy: 0.6725\n",
            "Epoch 13/200\n",
            "240/240 [==============================] - 7s 28ms/step - loss: 0.5259 - accuracy: 0.7985 - val_loss: 1.0344 - val_accuracy: 0.6550\n",
            "Epoch 14/200\n",
            "240/240 [==============================] - 7s 28ms/step - loss: 0.5107 - accuracy: 0.8042 - val_loss: 1.0661 - val_accuracy: 0.6500\n"
          ]
        }
      ]
    },
    {
      "cell_type": "code",
      "metadata": {
        "id": "ItwITCHYK29w",
        "outputId": "f4333557-403b-4af8-89a2-1a859e0c0cab",
        "colab": {
          "base_uri": "https://localhost:8080/"
        }
      },
      "source": [
        "model.summary()\n",
        "model.evaluate(X_test, y_test)"
      ],
      "execution_count": 9,
      "outputs": [
        {
          "output_type": "stream",
          "name": "stdout",
          "text": [
            "Model: \"sequential\"\n",
            "_________________________________________________________________\n",
            " Layer (type)                Output Shape              Param #   \n",
            "=================================================================\n",
            " lstm (LSTM)                 (400, None, 150)          167400    \n",
            "                                                                 \n",
            " lstm_1 (LSTM)               (400, 150)                180600    \n",
            "                                                                 \n",
            " dropout (Dropout)           (400, 150)                0         \n",
            "                                                                 \n",
            " dense (Dense)               (400, 4)                  604       \n",
            "                                                                 \n",
            "=================================================================\n",
            "Total params: 348,604\n",
            "Trainable params: 348,604\n",
            "Non-trainable params: 0\n",
            "_________________________________________________________________\n",
            "13/13 [==============================] - 2s 64ms/step - loss: 1.2894 - accuracy: 0.5375\n"
          ]
        },
        {
          "output_type": "execute_result",
          "data": {
            "text/plain": [
              "[1.2894359827041626, 0.5375000238418579]"
            ]
          },
          "metadata": {},
          "execution_count": 9
        }
      ]
    },
    {
      "cell_type": "markdown",
      "metadata": {
        "id": "cwdndmclHdZW"
      },
      "source": [
        "## 2-2. GRU"
      ]
    },
    {
      "cell_type": "code",
      "source": [
        "if 'model' in locals():\n",
        "  del model\n",
        "  gc.collect()\n",
        "keras.backend.clear_session()\n",
        "np.random.seed(42)\n",
        "tf.random.set_seed(42)"
      ],
      "metadata": {
        "id": "NalHd9w_ZWBD"
      },
      "execution_count": 11,
      "outputs": []
    },
    {
      "cell_type": "code",
      "metadata": {
        "id": "NWppPcV4Eltc"
      },
      "source": [
        "model = keras.models.Sequential([\n",
        "    keras.layers.GRU(100, return_sequences=True, dropout=.3),\n",
        "    keras.layers.GRU(100, dropout=.1),\n",
        "    keras.layers.Dropout(0.1),\n",
        "    keras.layers.Dense(units=4, activation='softmax')\n",
        "])"
      ],
      "execution_count": 13,
      "outputs": []
    },
    {
      "cell_type": "code",
      "metadata": {
        "id": "WoVXxl7XEyh9",
        "outputId": "21cee8e8-4bad-4c2a-ca22-a9ad2a77b280",
        "colab": {
          "base_uri": "https://localhost:8080/"
        }
      },
      "source": [
        "model.compile(loss=\"sparse_categorical_crossentropy\",\n",
        "              optimizer = keras.optimizers.Adam(learning_rate=0.001),\n",
        "              metrics=[\"accuracy\"])\n",
        "\n",
        "history = model.fit(X_train, y_train, batch_size=200, epochs=200,\n",
        "                    validation_data=(X_valid, y_valid),\n",
        "                    callbacks=[keras.callbacks.EarlyStopping(patience=10, restore_best_weights=True)])\n",
        "    "
      ],
      "execution_count": 7,
      "outputs": [
        {
          "output_type": "stream",
          "name": "stdout",
          "text": [
            "Epoch 1/200\n",
            "240/240 [==============================] - 19s 28ms/step - loss: 1.0762 - accuracy: 0.5188 - val_loss: 0.9949 - val_accuracy: 0.6225\n",
            "Epoch 2/200\n",
            "240/240 [==============================] - 5s 19ms/step - loss: 0.9323 - accuracy: 0.6022 - val_loss: 0.8943 - val_accuracy: 0.6850\n",
            "Epoch 3/200\n",
            "240/240 [==============================] - 5s 23ms/step - loss: 0.8714 - accuracy: 0.6396 - val_loss: 0.8465 - val_accuracy: 0.7100\n",
            "Epoch 4/200\n",
            "240/240 [==============================] - 5s 19ms/step - loss: 0.8219 - accuracy: 0.6633 - val_loss: 0.8681 - val_accuracy: 0.7050\n",
            "Epoch 5/200\n",
            "240/240 [==============================] - 5s 19ms/step - loss: 0.7839 - accuracy: 0.6825 - val_loss: 0.8508 - val_accuracy: 0.7075\n",
            "Epoch 6/200\n",
            "240/240 [==============================] - 5s 20ms/step - loss: 0.7496 - accuracy: 0.6996 - val_loss: 0.8698 - val_accuracy: 0.7100\n",
            "Epoch 7/200\n",
            "240/240 [==============================] - 5s 22ms/step - loss: 0.7229 - accuracy: 0.7106 - val_loss: 0.9362 - val_accuracy: 0.6950\n",
            "Epoch 8/200\n",
            "240/240 [==============================] - 5s 20ms/step - loss: 0.6961 - accuracy: 0.7244 - val_loss: 0.9553 - val_accuracy: 0.7000\n",
            "Epoch 9/200\n",
            "240/240 [==============================] - 5s 20ms/step - loss: 0.6774 - accuracy: 0.7314 - val_loss: 0.8254 - val_accuracy: 0.7375\n",
            "Epoch 10/200\n",
            "240/240 [==============================] - 5s 20ms/step - loss: 0.6609 - accuracy: 0.7403 - val_loss: 0.9666 - val_accuracy: 0.7075\n",
            "Epoch 11/200\n",
            "240/240 [==============================] - 5s 19ms/step - loss: 0.6404 - accuracy: 0.7452 - val_loss: 0.9134 - val_accuracy: 0.7125\n",
            "Epoch 12/200\n",
            "240/240 [==============================] - 5s 19ms/step - loss: 0.6242 - accuracy: 0.7546 - val_loss: 0.8697 - val_accuracy: 0.7375\n",
            "Epoch 13/200\n",
            "240/240 [==============================] - 5s 19ms/step - loss: 0.6102 - accuracy: 0.7598 - val_loss: 1.0382 - val_accuracy: 0.6975\n",
            "Epoch 14/200\n",
            "240/240 [==============================] - 5s 19ms/step - loss: 0.5960 - accuracy: 0.7678 - val_loss: 1.0313 - val_accuracy: 0.7225\n",
            "Epoch 15/200\n",
            "240/240 [==============================] - 5s 19ms/step - loss: 0.5821 - accuracy: 0.7721 - val_loss: 0.9842 - val_accuracy: 0.7150\n",
            "Epoch 16/200\n",
            "240/240 [==============================] - 5s 19ms/step - loss: 0.5712 - accuracy: 0.7776 - val_loss: 1.1137 - val_accuracy: 0.7050\n",
            "Epoch 17/200\n",
            "240/240 [==============================] - 5s 19ms/step - loss: 0.5596 - accuracy: 0.7820 - val_loss: 0.9935 - val_accuracy: 0.7225\n",
            "Epoch 18/200\n",
            "240/240 [==============================] - 5s 19ms/step - loss: 0.5498 - accuracy: 0.7877 - val_loss: 1.0574 - val_accuracy: 0.7225\n",
            "Epoch 19/200\n",
            "240/240 [==============================] - 5s 20ms/step - loss: 0.5371 - accuracy: 0.7926 - val_loss: 1.0888 - val_accuracy: 0.7175\n"
          ]
        }
      ]
    },
    {
      "cell_type": "code",
      "metadata": {
        "id": "bhceU98zII_D",
        "outputId": "be06259c-b6ee-4e6f-bfbe-c43672f2055e",
        "colab": {
          "base_uri": "https://localhost:8080/"
        }
      },
      "source": [
        "model.summary()\n",
        "model.evaluate(X_test, y_test)"
      ],
      "execution_count": 8,
      "outputs": [
        {
          "output_type": "stream",
          "name": "stdout",
          "text": [
            "Model: \"sequential\"\n",
            "_________________________________________________________________\n",
            " Layer (type)                Output Shape              Param #   \n",
            "=================================================================\n",
            " gru (GRU)                   (200, None, 100)          69000     \n",
            "                                                                 \n",
            " gru_1 (GRU)                 (200, 100)                60600     \n",
            "                                                                 \n",
            " dropout (Dropout)           (200, 100)                0         \n",
            "                                                                 \n",
            " dense (Dense)               (200, 4)                  404       \n",
            "                                                                 \n",
            "=================================================================\n",
            "Total params: 130,004\n",
            "Trainable params: 130,004\n",
            "Non-trainable params: 0\n",
            "_________________________________________________________________\n",
            "13/13 [==============================] - 2s 59ms/step - loss: 1.2864 - accuracy: 0.6025\n"
          ]
        },
        {
          "output_type": "execute_result",
          "data": {
            "text/plain": [
              "[1.2863861322402954, 0.6025000214576721]"
            ]
          },
          "metadata": {},
          "execution_count": 8
        }
      ]
    },
    {
      "cell_type": "markdown",
      "metadata": {
        "id": "zUfXDA-TqG8e"
      },
      "source": [
        "## 3. Bidirectional GRU"
      ]
    },
    {
      "cell_type": "code",
      "source": [
        "if 'model' in locals():\n",
        "  del model\n",
        "  gc.collect()\n",
        "keras.backend.clear_session()\n",
        "np.random.seed(42)\n",
        "tf.random.set_seed(42)"
      ],
      "metadata": {
        "id": "nVdvzWyuabSv"
      },
      "execution_count": 18,
      "outputs": []
    },
    {
      "cell_type": "code",
      "metadata": {
        "id": "Hp49vacmqNT9"
      },
      "source": [
        "model = keras.models.Sequential([\n",
        "    keras.layers.Bidirectional(keras.layers.GRU(100, return_sequences=True, dropout=.3)),\n",
        "    keras.layers.Bidirectional(keras.layers.GRU(100, dropout=.1)),\n",
        "    keras.layers.Dropout(0.1),\n",
        "    keras.layers.Dense(units=4, activation='softmax')\n",
        "])\n"
      ],
      "execution_count": 19,
      "outputs": []
    },
    {
      "cell_type": "code",
      "metadata": {
        "id": "bvuZGP0TqQsS",
        "outputId": "bcbd5cf0-f90e-47a5-d5ca-ee860986ca5b",
        "colab": {
          "base_uri": "https://localhost:8080/"
        }
      },
      "source": [
        "model.compile(loss=\"sparse_categorical_crossentropy\",\n",
        "              optimizer = keras.optimizers.Adam(learning_rate=0.001),\n",
        "              metrics=[\"accuracy\"])\n",
        "\n",
        "history = model.fit(X_train, y_train, batch_size=200, epochs=200,\n",
        "                    validation_data=(X_valid, y_valid),\n",
        "                    callbacks=[keras.callbacks.EarlyStopping(patience=10, restore_best_weights=True)])"
      ],
      "execution_count": 20,
      "outputs": [
        {
          "output_type": "stream",
          "name": "stdout",
          "text": [
            "Epoch 1/200\n",
            "240/240 [==============================] - 19s 55ms/step - loss: 1.0482 - accuracy: 0.5399 - val_loss: 0.8881 - val_accuracy: 0.6150\n",
            "Epoch 2/200\n",
            "240/240 [==============================] - 9s 38ms/step - loss: 0.8994 - accuracy: 0.6235 - val_loss: 0.8020 - val_accuracy: 0.6975\n",
            "Epoch 3/200\n",
            "240/240 [==============================] - 9s 38ms/step - loss: 0.8293 - accuracy: 0.6595 - val_loss: 0.8752 - val_accuracy: 0.6250\n",
            "Epoch 4/200\n",
            "240/240 [==============================] - 9s 38ms/step - loss: 0.7713 - accuracy: 0.6857 - val_loss: 0.8516 - val_accuracy: 0.6875\n",
            "Epoch 5/200\n",
            "240/240 [==============================] - 9s 38ms/step - loss: 0.7247 - accuracy: 0.7090 - val_loss: 0.8806 - val_accuracy: 0.6550\n",
            "Epoch 6/200\n",
            "240/240 [==============================] - 9s 39ms/step - loss: 0.6852 - accuracy: 0.7275 - val_loss: 0.9276 - val_accuracy: 0.6475\n",
            "Epoch 7/200\n",
            "240/240 [==============================] - 9s 37ms/step - loss: 0.6560 - accuracy: 0.7399 - val_loss: 0.9224 - val_accuracy: 0.6800\n",
            "Epoch 8/200\n",
            "240/240 [==============================] - 9s 37ms/step - loss: 0.6213 - accuracy: 0.7535 - val_loss: 0.9321 - val_accuracy: 0.6825\n",
            "Epoch 9/200\n",
            "240/240 [==============================] - 9s 38ms/step - loss: 0.5994 - accuracy: 0.7640 - val_loss: 0.8966 - val_accuracy: 0.7150\n",
            "Epoch 10/200\n",
            "240/240 [==============================] - 9s 37ms/step - loss: 0.5696 - accuracy: 0.7771 - val_loss: 0.9907 - val_accuracy: 0.6825\n",
            "Epoch 11/200\n",
            "240/240 [==============================] - 9s 38ms/step - loss: 0.5463 - accuracy: 0.7860 - val_loss: 0.9422 - val_accuracy: 0.7225\n",
            "Epoch 12/200\n",
            "240/240 [==============================] - 9s 37ms/step - loss: 0.5323 - accuracy: 0.7935 - val_loss: 0.9537 - val_accuracy: 0.7250\n"
          ]
        }
      ]
    },
    {
      "cell_type": "code",
      "metadata": {
        "id": "IR4THgmjqTev",
        "outputId": "da31deba-807d-40a5-a151-8614f512d14c",
        "colab": {
          "base_uri": "https://localhost:8080/"
        }
      },
      "source": [
        "model.summary()\n",
        "model.evaluate(X_test, y_test)"
      ],
      "execution_count": 21,
      "outputs": [
        {
          "output_type": "stream",
          "name": "stdout",
          "text": [
            "Model: \"sequential\"\n",
            "_________________________________________________________________\n",
            " Layer (type)                Output Shape              Param #   \n",
            "=================================================================\n",
            " bidirectional (Bidirectiona  (200, None, 200)         138000    \n",
            " l)                                                              \n",
            "                                                                 \n",
            " bidirectional_1 (Bidirectio  (200, 200)               181200    \n",
            " nal)                                                            \n",
            "                                                                 \n",
            " dropout (Dropout)           (200, 200)                0         \n",
            "                                                                 \n",
            " dense (Dense)               (200, 4)                  804       \n",
            "                                                                 \n",
            "=================================================================\n",
            "Total params: 320,004\n",
            "Trainable params: 320,004\n",
            "Non-trainable params: 0\n",
            "_________________________________________________________________\n",
            "13/13 [==============================] - 3s 87ms/step - loss: 1.1773 - accuracy: 0.5425\n"
          ]
        },
        {
          "output_type": "execute_result",
          "data": {
            "text/plain": [
              "[1.1772606372833252, 0.5425000190734863]"
            ]
          },
          "metadata": {},
          "execution_count": 21
        }
      ]
    },
    {
      "cell_type": "markdown",
      "metadata": {
        "id": "1JNf4yo5CYjT"
      },
      "source": [
        "## 4. CNN"
      ]
    },
    {
      "cell_type": "code",
      "source": [
        "if 'model' in locals():\n",
        "  del model\n",
        "  gc.collect()\n",
        "keras.backend.clear_session()\n",
        "np.random.seed(42)\n",
        "tf.random.set_seed(42)"
      ],
      "metadata": {
        "id": "9nfiyZ5xZZkR"
      },
      "execution_count": 23,
      "outputs": []
    },
    {
      "cell_type": "code",
      "metadata": {
        "id": "rKHUHLvkVCIG"
      },
      "source": [
        "log_mels= np.load('/content/gdrive/My Drive/music_data_mining/log_mels_4classes.npz') \n",
        "X_train = log_mels['X_train']\n",
        "X_test = log_mels['X_test']\n",
        "X_valid = log_mels['X_valid']\n",
        "y_train = log_mels['y_train']\n",
        "y_test = log_mels['y_test']\n",
        "y_valid = log_mels['y_valid']"
      ],
      "execution_count": 24,
      "outputs": []
    },
    {
      "cell_type": "code",
      "metadata": {
        "id": "P3pEO3NWlMrM"
      },
      "source": [
        "X_train = X_train[..., np.newaxis]\n",
        "X_valid = X_valid[..., np.newaxis]\n",
        "X_test = X_test[..., np.newaxis]"
      ],
      "execution_count": 25,
      "outputs": []
    },
    {
      "cell_type": "code",
      "metadata": {
        "id": "2OtsWyFHBsii",
        "colab": {
          "base_uri": "https://localhost:8080/"
        },
        "outputId": "80e70704-ce23-4300-fccb-6b3e873d4c9a"
      },
      "source": [
        "print(X_train.shape, X_valid.shape, X_test.shape)"
      ],
      "execution_count": 26,
      "outputs": [
        {
          "output_type": "stream",
          "name": "stdout",
          "text": [
            "(3200, 1290, 128, 1) (400, 1290, 128, 1) (400, 1290, 128, 1)\n"
          ]
        }
      ]
    },
    {
      "cell_type": "code",
      "metadata": {
        "id": "sUqxQ1aA1I0N"
      },
      "source": [
        "model = keras.models.Sequential([\n",
        "    keras.layers.Conv2D(filters=10, kernel_size=5, input_shape=[ 1290, 128, 1], activation='relu', kernel_initializer='glorot_normal'),\n",
        "    keras.layers.MaxPooling2D(pool_size=2),\n",
        "    keras.layers.Conv2D(filters=10, kernel_size=5, activation='relu', kernel_initializer='glorot_normal'),\n",
        "    keras.layers.MaxPooling2D(pool_size=2),\n",
        "    keras.layers.Conv2D(filters=10, kernel_size=5, activation='relu', kernel_initializer='glorot_normal'),\n",
        "    keras.layers.MaxPooling2D(pool_size=2),\n",
        "    keras.layers.Conv2D(filters=10, kernel_size=5, activation='relu', kernel_initializer='glorot_normal'),\n",
        "    keras.layers.MaxPooling2D(pool_size=2),\n",
        "    keras.layers.Flatten(),\n",
        "    keras.layers.Dropout(0.5),\n",
        "    keras.layers.Dense(units=50, activation='relu', kernel_initializer='glorot_normal'),\n",
        "    keras.layers.Dropout(0.2),\n",
        "    keras.layers.Dense(units=20, activation='relu', kernel_initializer='glorot_normal'),\n",
        "    keras.layers.Dropout(0.2),\n",
        "    keras.layers.Dense(units=4, activation='softmax')\n",
        "])"
      ],
      "execution_count": 27,
      "outputs": []
    },
    {
      "cell_type": "code",
      "metadata": {
        "id": "7iBpujqoBeD_",
        "colab": {
          "base_uri": "https://localhost:8080/"
        },
        "outputId": "06b37eb8-6442-4268-a44a-331a77ceb354"
      },
      "source": [
        "model.compile(loss=\"sparse_categorical_crossentropy\",\n",
        "              optimizer = keras.optimizers.Adam(learning_rate=0.001),\n",
        "              metrics=[\"accuracy\"])\n",
        "\n",
        "history = model.fit(X_train, y_train, batch_size=200, epochs=200,\n",
        "                    validation_data=(X_valid, y_valid),\n",
        "                    callbacks=[keras.callbacks.EarlyStopping(patience=10, restore_best_weights=True)])\n",
        "                    "
      ],
      "execution_count": 28,
      "outputs": [
        {
          "output_type": "stream",
          "name": "stdout",
          "text": [
            "Epoch 1/200\n",
            "16/16 [==============================] - 15s 387ms/step - loss: 2.3106 - accuracy: 0.2553 - val_loss: 1.3721 - val_accuracy: 0.2800\n",
            "Epoch 2/200\n",
            "16/16 [==============================] - 6s 375ms/step - loss: 1.3693 - accuracy: 0.2753 - val_loss: 1.3261 - val_accuracy: 0.3425\n",
            "Epoch 3/200\n",
            "16/16 [==============================] - 6s 375ms/step - loss: 1.3433 - accuracy: 0.2966 - val_loss: 1.2862 - val_accuracy: 0.3400\n",
            "Epoch 4/200\n",
            "16/16 [==============================] - 6s 355ms/step - loss: 1.2908 - accuracy: 0.3241 - val_loss: 1.2478 - val_accuracy: 0.3325\n",
            "Epoch 5/200\n",
            "16/16 [==============================] - 6s 373ms/step - loss: 1.2747 - accuracy: 0.3578 - val_loss: 1.1409 - val_accuracy: 0.4350\n",
            "Epoch 6/200\n",
            "16/16 [==============================] - 6s 351ms/step - loss: 1.2272 - accuracy: 0.4059 - val_loss: 1.1710 - val_accuracy: 0.4700\n",
            "Epoch 7/200\n",
            "16/16 [==============================] - 6s 369ms/step - loss: 1.1974 - accuracy: 0.4322 - val_loss: 1.0934 - val_accuracy: 0.4975\n",
            "Epoch 8/200\n",
            "16/16 [==============================] - 6s 368ms/step - loss: 1.1572 - accuracy: 0.4594 - val_loss: 1.0736 - val_accuracy: 0.5375\n",
            "Epoch 9/200\n",
            "16/16 [==============================] - 6s 346ms/step - loss: 1.1442 - accuracy: 0.4675 - val_loss: 1.0781 - val_accuracy: 0.4975\n",
            "Epoch 10/200\n",
            "16/16 [==============================] - 5s 344ms/step - loss: 1.1230 - accuracy: 0.4844 - val_loss: 1.0460 - val_accuracy: 0.5275\n",
            "Epoch 11/200\n",
            "16/16 [==============================] - 5s 345ms/step - loss: 1.0936 - accuracy: 0.5103 - val_loss: 1.0297 - val_accuracy: 0.5300\n",
            "Epoch 12/200\n",
            "16/16 [==============================] - 6s 365ms/step - loss: 1.0728 - accuracy: 0.5347 - val_loss: 1.0185 - val_accuracy: 0.5725\n",
            "Epoch 13/200\n",
            "16/16 [==============================] - 6s 366ms/step - loss: 1.0675 - accuracy: 0.5244 - val_loss: 1.0604 - val_accuracy: 0.5700\n",
            "Epoch 14/200\n",
            "16/16 [==============================] - 6s 366ms/step - loss: 1.0458 - accuracy: 0.5453 - val_loss: 0.9753 - val_accuracy: 0.5800\n",
            "Epoch 15/200\n",
            "16/16 [==============================] - 6s 368ms/step - loss: 1.0227 - accuracy: 0.5534 - val_loss: 0.9810 - val_accuracy: 0.5600\n",
            "Epoch 16/200\n",
            "16/16 [==============================] - 6s 367ms/step - loss: 1.0036 - accuracy: 0.5506 - val_loss: 0.9506 - val_accuracy: 0.5975\n",
            "Epoch 17/200\n",
            "16/16 [==============================] - 6s 349ms/step - loss: 1.0085 - accuracy: 0.5728 - val_loss: 1.0125 - val_accuracy: 0.5875\n",
            "Epoch 18/200\n",
            "16/16 [==============================] - 6s 348ms/step - loss: 0.9726 - accuracy: 0.5891 - val_loss: 0.9814 - val_accuracy: 0.5775\n",
            "Epoch 19/200\n",
            "16/16 [==============================] - 6s 347ms/step - loss: 0.9352 - accuracy: 0.6097 - val_loss: 0.9653 - val_accuracy: 0.5875\n",
            "Epoch 20/200\n",
            "16/16 [==============================] - 6s 371ms/step - loss: 0.9174 - accuracy: 0.6047 - val_loss: 0.9885 - val_accuracy: 0.5900\n",
            "Epoch 21/200\n",
            "16/16 [==============================] - 6s 370ms/step - loss: 0.9085 - accuracy: 0.6281 - val_loss: 0.9376 - val_accuracy: 0.6275\n",
            "Epoch 22/200\n",
            "16/16 [==============================] - 6s 348ms/step - loss: 0.8961 - accuracy: 0.6297 - val_loss: 0.9685 - val_accuracy: 0.6050\n",
            "Epoch 23/200\n",
            "16/16 [==============================] - 6s 348ms/step - loss: 0.8747 - accuracy: 0.6278 - val_loss: 0.9235 - val_accuracy: 0.6200\n",
            "Epoch 24/200\n",
            "16/16 [==============================] - 6s 346ms/step - loss: 0.8852 - accuracy: 0.6353 - val_loss: 0.9342 - val_accuracy: 0.6125\n",
            "Epoch 25/200\n",
            "16/16 [==============================] - 6s 368ms/step - loss: 0.8513 - accuracy: 0.6463 - val_loss: 1.0535 - val_accuracy: 0.5525\n",
            "Epoch 26/200\n",
            "16/16 [==============================] - 6s 346ms/step - loss: 0.8606 - accuracy: 0.6328 - val_loss: 0.9524 - val_accuracy: 0.6150\n",
            "Epoch 27/200\n",
            "16/16 [==============================] - 6s 347ms/step - loss: 0.8315 - accuracy: 0.6447 - val_loss: 0.9520 - val_accuracy: 0.5725\n",
            "Epoch 28/200\n",
            "16/16 [==============================] - 6s 349ms/step - loss: 0.7939 - accuracy: 0.6712 - val_loss: 0.9460 - val_accuracy: 0.6150\n",
            "Epoch 29/200\n",
            "16/16 [==============================] - 6s 347ms/step - loss: 0.7925 - accuracy: 0.6719 - val_loss: 0.9201 - val_accuracy: 0.6300\n",
            "Epoch 30/200\n",
            "16/16 [==============================] - 6s 370ms/step - loss: 0.7516 - accuracy: 0.6972 - val_loss: 0.9770 - val_accuracy: 0.6025\n",
            "Epoch 31/200\n",
            "16/16 [==============================] - 6s 369ms/step - loss: 0.7692 - accuracy: 0.6847 - val_loss: 0.9418 - val_accuracy: 0.6025\n",
            "Epoch 32/200\n",
            "16/16 [==============================] - 6s 346ms/step - loss: 0.7346 - accuracy: 0.7003 - val_loss: 0.9589 - val_accuracy: 0.6175\n",
            "Epoch 33/200\n",
            "16/16 [==============================] - 6s 368ms/step - loss: 0.7371 - accuracy: 0.6963 - val_loss: 0.9657 - val_accuracy: 0.6150\n",
            "Epoch 34/200\n",
            "16/16 [==============================] - 6s 375ms/step - loss: 0.7105 - accuracy: 0.7081 - val_loss: 1.0372 - val_accuracy: 0.5750\n",
            "Epoch 35/200\n",
            "16/16 [==============================] - 6s 346ms/step - loss: 0.7090 - accuracy: 0.7072 - val_loss: 1.0234 - val_accuracy: 0.5975\n",
            "Epoch 36/200\n",
            "16/16 [==============================] - 6s 348ms/step - loss: 0.7056 - accuracy: 0.7147 - val_loss: 0.9675 - val_accuracy: 0.6200\n",
            "Epoch 37/200\n",
            "16/16 [==============================] - 6s 369ms/step - loss: 0.6616 - accuracy: 0.7303 - val_loss: 0.9627 - val_accuracy: 0.6425\n",
            "Epoch 38/200\n",
            "16/16 [==============================] - 6s 374ms/step - loss: 0.6419 - accuracy: 0.7487 - val_loss: 0.9758 - val_accuracy: 0.6475\n",
            "Epoch 39/200\n",
            "16/16 [==============================] - 6s 349ms/step - loss: 0.6405 - accuracy: 0.7419 - val_loss: 0.9792 - val_accuracy: 0.6400\n"
          ]
        }
      ]
    },
    {
      "cell_type": "code",
      "metadata": {
        "id": "z7GCHjWkCWF1",
        "colab": {
          "base_uri": "https://localhost:8080/"
        },
        "outputId": "fe0f038f-333d-40a4-fb44-2a7f0c0b1745"
      },
      "source": [
        "model.summary()\n",
        "model.evaluate(X_test, y_test)"
      ],
      "execution_count": 29,
      "outputs": [
        {
          "output_type": "stream",
          "name": "stdout",
          "text": [
            "Model: \"sequential\"\n",
            "_________________________________________________________________\n",
            " Layer (type)                Output Shape              Param #   \n",
            "=================================================================\n",
            " conv2d (Conv2D)             (None, 1286, 124, 10)     260       \n",
            "                                                                 \n",
            " max_pooling2d (MaxPooling2D  (None, 643, 62, 10)      0         \n",
            " )                                                               \n",
            "                                                                 \n",
            " conv2d_1 (Conv2D)           (None, 639, 58, 10)       2510      \n",
            "                                                                 \n",
            " max_pooling2d_1 (MaxPooling  (None, 319, 29, 10)      0         \n",
            " 2D)                                                             \n",
            "                                                                 \n",
            " conv2d_2 (Conv2D)           (None, 315, 25, 10)       2510      \n",
            "                                                                 \n",
            " max_pooling2d_2 (MaxPooling  (None, 157, 12, 10)      0         \n",
            " 2D)                                                             \n",
            "                                                                 \n",
            " conv2d_3 (Conv2D)           (None, 153, 8, 10)        2510      \n",
            "                                                                 \n",
            " max_pooling2d_3 (MaxPooling  (None, 76, 4, 10)        0         \n",
            " 2D)                                                             \n",
            "                                                                 \n",
            " flatten (Flatten)           (None, 3040)              0         \n",
            "                                                                 \n",
            " dropout (Dropout)           (None, 3040)              0         \n",
            "                                                                 \n",
            " dense (Dense)               (None, 50)                152050    \n",
            "                                                                 \n",
            " dropout_1 (Dropout)         (None, 50)                0         \n",
            "                                                                 \n",
            " dense_1 (Dense)             (None, 20)                1020      \n",
            "                                                                 \n",
            " dropout_2 (Dropout)         (None, 20)                0         \n",
            "                                                                 \n",
            " dense_2 (Dense)             (None, 4)                 84        \n",
            "                                                                 \n",
            "=================================================================\n",
            "Total params: 160,944\n",
            "Trainable params: 160,944\n",
            "Non-trainable params: 0\n",
            "_________________________________________________________________\n",
            "13/13 [==============================] - 1s 37ms/step - loss: 1.2199 - accuracy: 0.5100\n"
          ]
        },
        {
          "output_type": "execute_result",
          "data": {
            "text/plain": [
              "[1.2198987007141113, 0.5099999904632568]"
            ]
          },
          "metadata": {},
          "execution_count": 29
        }
      ]
    }
  ]
}